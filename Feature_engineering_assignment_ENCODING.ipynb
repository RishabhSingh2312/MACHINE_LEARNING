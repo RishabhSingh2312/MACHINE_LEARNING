{
 "cells": [
  {
   "cell_type": "markdown",
   "id": "5c8bf8ae",
   "metadata": {},
   "source": [
    "# Q1. What is the difference between Ordinal Encoding and Label Encoding? Provide an example of when you might choose one over the other."
   ]
  },
  {
   "cell_type": "markdown",
   "id": "9bb69a7a",
   "metadata": {},
   "source": [
    "### Ordinal encoding and label encoding are two techniques used in feature encoding, which is the process of converting categorical data into numerical data for use in machine learning models.\n",
    "\n",
    "### The main difference between ordinal encoding and label encoding is that ordinal encoding assigns a unique integer value to each category based on their order or rank, while label encoding assigns a unique integer value to each category without any specific order or rank.\n",
    "\n",
    "### For example, let's consider a categorical variable \"Size\" that has three categories: \"Small,\" \"Medium,\" and \"Large.\" Using ordinal encoding, \"Small\" might be assigned the value of 1, \"Medium\" the value of 2, and \"Large\" the value of 3. On the other hand, using label encoding, \"Small\" might be assigned the value of 0, \"Medium\" the value of 1, and \"Large\" the value of 2.\n",
    "\n"
   ]
  },
  {
   "cell_type": "markdown",
   "id": "97d16be3",
   "metadata": {},
   "source": [
    "# Q2. Explain how Target Guided Ordinal Encoding works and provide an example of when you might use it in a machine learning project."
   ]
  },
  {
   "cell_type": "markdown",
   "id": "d7494816",
   "metadata": {},
   "source": [
    "### Target Guided Ordinal Encoding is a technique of ordinal encoding, where the categories of a categorical feature are assigned a rank or order based on the target variable, i.e., the dependent variable. The basic idea of this encoding is to replace the categorical variable with a new numerical variable, which represents the probability of the target variable for each category.\n",
    "\n",
    "### The following are the steps for performing Target Guided Ordinal Encoding:\n",
    "\n",
    "### Calculate the mean of the target variable for each category of the categorical feature.\n",
    "### Sort the categories in ascending or descending order based on their mean value.\n",
    "### Assign a unique ordinal number to each category based on their rank, where the category with the highest mean value gets the highest rank.\n",
    "### Replace the categorical variable with the assigned ordinal values.\n",
    "### For example, consider a dataset with a categorical feature \"City\" and a target variable \"Revenue.\" The \"City\" feature has four categories: \"New York,\" \"San Francisco,\" \"Los Angeles,\" and \"Chicago.\" We can perform Target Guided Ordinal Encoding on this feature as follows:\n",
    "\"\"\"\n",
    "Calculate the mean of \"Revenue\" for each category of \"City.\"\n",
    "\n",
    "\"New York\": mean revenue = $100,000\n",
    "\"San Francisco\": mean revenue = $150,000\n",
    "\"Los Angeles\": mean revenue = $80,000\n",
    "\"Chicago\": mean revenue = $60,000\n",
    "Sort the categories in descending order based on their mean value.\n",
    "\n",
    "\"San Francisco\"\n",
    "\"New York\"\n",
    "\"Los Angeles\"\n",
    "\"Chicago\"\n",
    "Assign a unique ordinal number to each category based on their rank, where the category with the highest mean value gets the highest rank.\n",
    "\n",
    "\"San Francisco\": 4\n",
    "\"New York\": 3\n",
    "\"Los Angeles\": 2\n",
    "\"Chicago\": 1\n",
    "Replace the categorical variable \"City\" with the assigned ordinal values.\n",
    "\"\"\""
   ]
  },
  {
   "cell_type": "markdown",
   "id": "6ab9c56b",
   "metadata": {},
   "source": [
    "# Q4. For a dataset with the following categorical variables: Color (red, green, blue), Size (small, medium,  large), and Material (wood, metal, plastic), perform label encoding using Python's scikit-learn library. Show your code and explain the output."
   ]
  },
  {
   "cell_type": "code",
   "execution_count": 2,
   "id": "3cf36c76",
   "metadata": {},
   "outputs": [
    {
     "name": "stdout",
     "output_type": "stream",
     "text": [
      "Collecting sklearn\n",
      "  Downloading sklearn-0.0.post1.tar.gz (3.6 kB)\n",
      "  Preparing metadata (setup.py): started\n",
      "  Preparing metadata (setup.py): finished with status 'error'\n",
      "Note: you may need to restart the kernel to use updated packages.\n"
     ]
    },
    {
     "name": "stderr",
     "output_type": "stream",
     "text": [
      "  error: subprocess-exited-with-error\n",
      "  \n",
      "  python setup.py egg_info did not run successfully.\n",
      "  exit code: 1\n",
      "  \n",
      "  [18 lines of output]\n",
      "  The 'sklearn' PyPI package is deprecated, use 'scikit-learn'\n",
      "  rather than 'sklearn' for pip commands.\n",
      "  \n",
      "  Here is how to fix this error in the main use cases:\n",
      "  - use 'pip install scikit-learn' rather than 'pip install sklearn'\n",
      "  - replace 'sklearn' by 'scikit-learn' in your pip requirements files\n",
      "    (requirements.txt, setup.py, setup.cfg, Pipfile, etc ...)\n",
      "  - if the 'sklearn' package is used by one of your dependencies,\n",
      "    it would be great if you take some time to track which package uses\n",
      "    'sklearn' instead of 'scikit-learn' and report it to their issue tracker\n",
      "  - as a last resort, set the environment variable\n",
      "    SKLEARN_ALLOW_DEPRECATED_SKLEARN_PACKAGE_INSTALL=True to avoid this error\n",
      "  \n",
      "  More information is available at\n",
      "  https://github.com/scikit-learn/sklearn-pypi-package\n",
      "  \n",
      "  If the previous advice does not cover your use case, feel free to report it at\n",
      "  https://github.com/scikit-learn/sklearn-pypi-package/issues/new\n",
      "  [end of output]\n",
      "  \n",
      "  note: This error originates from a subprocess, and is likely not a problem with pip.\n",
      "error: metadata-generation-failed\n",
      "\n",
      "Encountered error while generating package metadata.\n",
      "\n",
      "See above for output.\n",
      "\n",
      "note: This is an issue with the package mentioned above, not pip.\n",
      "hint: See above for details.\n"
     ]
    }
   ],
   "source": [
    "pip install sklearn"
   ]
  },
  {
   "cell_type": "code",
   "execution_count": 4,
   "id": "583478f6",
   "metadata": {},
   "outputs": [],
   "source": [
    "import pandas as pd\n",
    "from sklearn.preprocessing import LabelEncoder"
   ]
  },
  {
   "cell_type": "code",
   "execution_count": 5,
   "id": "9a8b76e2",
   "metadata": {},
   "outputs": [],
   "source": [
    "data = {'Color': ['red', 'green', 'blue', 'red', 'green'],\n",
    "        'Size': ['small', 'medium', 'large', 'small', 'medium'],\n",
    "        'Material': ['wood', 'metal', 'plastic', 'plastic', 'wood']}\n",
    "df=pd.DataFrame(data)"
   ]
  },
  {
   "cell_type": "code",
   "execution_count": 6,
   "id": "e801a987",
   "metadata": {},
   "outputs": [
    {
     "data": {
      "text/html": [
       "<div>\n",
       "<style scoped>\n",
       "    .dataframe tbody tr th:only-of-type {\n",
       "        vertical-align: middle;\n",
       "    }\n",
       "\n",
       "    .dataframe tbody tr th {\n",
       "        vertical-align: top;\n",
       "    }\n",
       "\n",
       "    .dataframe thead th {\n",
       "        text-align: right;\n",
       "    }\n",
       "</style>\n",
       "<table border=\"1\" class=\"dataframe\">\n",
       "  <thead>\n",
       "    <tr style=\"text-align: right;\">\n",
       "      <th></th>\n",
       "      <th>Color</th>\n",
       "      <th>Size</th>\n",
       "      <th>Material</th>\n",
       "    </tr>\n",
       "  </thead>\n",
       "  <tbody>\n",
       "    <tr>\n",
       "      <th>0</th>\n",
       "      <td>red</td>\n",
       "      <td>small</td>\n",
       "      <td>wood</td>\n",
       "    </tr>\n",
       "    <tr>\n",
       "      <th>1</th>\n",
       "      <td>green</td>\n",
       "      <td>medium</td>\n",
       "      <td>metal</td>\n",
       "    </tr>\n",
       "    <tr>\n",
       "      <th>2</th>\n",
       "      <td>blue</td>\n",
       "      <td>large</td>\n",
       "      <td>plastic</td>\n",
       "    </tr>\n",
       "    <tr>\n",
       "      <th>3</th>\n",
       "      <td>red</td>\n",
       "      <td>small</td>\n",
       "      <td>plastic</td>\n",
       "    </tr>\n",
       "    <tr>\n",
       "      <th>4</th>\n",
       "      <td>green</td>\n",
       "      <td>medium</td>\n",
       "      <td>wood</td>\n",
       "    </tr>\n",
       "  </tbody>\n",
       "</table>\n",
       "</div>"
      ],
      "text/plain": [
       "   Color    Size Material\n",
       "0    red   small     wood\n",
       "1  green  medium    metal\n",
       "2   blue   large  plastic\n",
       "3    red   small  plastic\n",
       "4  green  medium     wood"
      ]
     },
     "execution_count": 6,
     "metadata": {},
     "output_type": "execute_result"
    }
   ],
   "source": [
    "df"
   ]
  },
  {
   "cell_type": "code",
   "execution_count": 7,
   "id": "675ba2f2",
   "metadata": {},
   "outputs": [],
   "source": [
    "label_encoder= LabelEncoder()"
   ]
  },
  {
   "cell_type": "code",
   "execution_count": 11,
   "id": "7ea639ad",
   "metadata": {},
   "outputs": [],
   "source": [
    "df[\"Color\"]=label_encoder.fit_transform(df[\"Color\"])\n",
    "df[\"Size\"]=label_encoder.fit_transform(df[\"Size\"])\n",
    "df[\"Material\"]=label_encoder.fit_transform(df[\"Material\"])"
   ]
  },
  {
   "cell_type": "code",
   "execution_count": 12,
   "id": "82024b83",
   "metadata": {},
   "outputs": [
    {
     "data": {
      "text/html": [
       "<div>\n",
       "<style scoped>\n",
       "    .dataframe tbody tr th:only-of-type {\n",
       "        vertical-align: middle;\n",
       "    }\n",
       "\n",
       "    .dataframe tbody tr th {\n",
       "        vertical-align: top;\n",
       "    }\n",
       "\n",
       "    .dataframe thead th {\n",
       "        text-align: right;\n",
       "    }\n",
       "</style>\n",
       "<table border=\"1\" class=\"dataframe\">\n",
       "  <thead>\n",
       "    <tr style=\"text-align: right;\">\n",
       "      <th></th>\n",
       "      <th>Color</th>\n",
       "      <th>Size</th>\n",
       "      <th>Material</th>\n",
       "    </tr>\n",
       "  </thead>\n",
       "  <tbody>\n",
       "    <tr>\n",
       "      <th>0</th>\n",
       "      <td>2</td>\n",
       "      <td>2</td>\n",
       "      <td>2</td>\n",
       "    </tr>\n",
       "    <tr>\n",
       "      <th>1</th>\n",
       "      <td>1</td>\n",
       "      <td>1</td>\n",
       "      <td>0</td>\n",
       "    </tr>\n",
       "    <tr>\n",
       "      <th>2</th>\n",
       "      <td>0</td>\n",
       "      <td>0</td>\n",
       "      <td>1</td>\n",
       "    </tr>\n",
       "    <tr>\n",
       "      <th>3</th>\n",
       "      <td>2</td>\n",
       "      <td>2</td>\n",
       "      <td>1</td>\n",
       "    </tr>\n",
       "    <tr>\n",
       "      <th>4</th>\n",
       "      <td>1</td>\n",
       "      <td>1</td>\n",
       "      <td>2</td>\n",
       "    </tr>\n",
       "  </tbody>\n",
       "</table>\n",
       "</div>"
      ],
      "text/plain": [
       "   Color  Size  Material\n",
       "0      2     2         2\n",
       "1      1     1         0\n",
       "2      0     0         1\n",
       "3      2     2         1\n",
       "4      1     1         2"
      ]
     },
     "execution_count": 12,
     "metadata": {},
     "output_type": "execute_result"
    }
   ],
   "source": [
    "df"
   ]
  },
  {
   "cell_type": "markdown",
   "id": "f334d608",
   "metadata": {},
   "source": [
    "# Q6. You are working on a machine learning project with a dataset containing several categorical variables, including \"Gender\" (Male/Female), \"Education Level\" (High School/Bachelor's/Master's/PhD), and \"Employment Status\" (Unemployed/Part-Time/Full-Time). Which encoding method would you use for each variable, and why?"
   ]
  },
  {
   "cell_type": "markdown",
   "id": "19db0085",
   "metadata": {},
   "source": [
    "### For the given categorical variables, the choice of encoding method will depend on the number of unique categories and the nature of the relationship between the categorical variable and the target variable. Here are some encoding methods that can be used for each variable and the reasons behind their selection:\n",
    "\n",
    "### Gender:\n",
    "### Since there are only two unique categories in the \"Gender\" variable (Male/Female), we can use binary encoding or label encoding. Binary encoding can represent the categories as 0s and 1s, where 0 represents Male and 1 represents Female. Label encoding can also be used to replace the categories with numerical values (0 for Male and 1 for Female). In general, binary encoding is preferred over label encoding as it preserves the unique information of each category while converting them into a binary representation.\n",
    "\n",
    "### Education Level:\n",
    "### The \"Education Level\" variable has four unique categories (High School/Bachelor's/Master's/PhD). One-hot encoding or dummy encoding can be used to represent this variable as a set of binary flags, where each category is represented by a binary column. One-hot encoding can be preferred over other encoding methods as it allows the model to capture the individual effects of each category on the target variable.\n",
    "\n",
    "### Employment Status:\n",
    "#### The \"Employment Status\" variable has three unique categories (Unemployed/Part-Time/Full-Time). Ordinal encoding or target-guided ordinal encoding can be used for this variable. Ordinal encoding assigns a unique ordinal value to each category based on their rank or order. Target-guided ordinal encoding assigns an ordinal value to each category based on their relationship with the target variable. The choice of encoding method will depend on the nature of the relationship between the categorical variable and the target variable. If there is a clear ordering or hierarchy among the categories, ordinal encoding can be used. On the other hand, if the target variable has a strong correlation with the categories, target-guided ordinal encoding can be preferred as it captures the relationship between the categorical variable and the target variable."
   ]
  },
  {
   "cell_type": "code",
   "execution_count": null,
   "id": "1ee82189",
   "metadata": {},
   "outputs": [],
   "source": []
  }
 ],
 "metadata": {
  "kernelspec": {
   "display_name": "Python 3 (ipykernel)",
   "language": "python",
   "name": "python3"
  },
  "language_info": {
   "codemirror_mode": {
    "name": "ipython",
    "version": 3
   },
   "file_extension": ".py",
   "mimetype": "text/x-python",
   "name": "python",
   "nbconvert_exporter": "python",
   "pygments_lexer": "ipython3",
   "version": "3.9.13"
  }
 },
 "nbformat": 4,
 "nbformat_minor": 5
}
