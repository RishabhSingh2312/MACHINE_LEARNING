{
 "cells": [
  {
   "cell_type": "markdown",
   "id": "3a0791a7",
   "metadata": {},
   "source": [
    "# Q1. What is Min-Max scaling, and how is it used in data preprocessing? Provide an example to illustrate its application."
   ]
  },
  {
   "cell_type": "markdown",
   "id": "96d56b68",
   "metadata": {},
   "source": [
    "### Min-Max scaling is a data preprocessing technique used to scale and normalize the values of a feature to a fixed range. The process of Min-Max scaling involves scaling each data point to a range of [0, 1] or any other range of your choice."
   ]
  },
  {
   "cell_type": "code",
   "execution_count": 27,
   "id": "596260ee",
   "metadata": {},
   "outputs": [
    {
     "data": {
      "text/html": [
       "<div>\n",
       "<style scoped>\n",
       "    .dataframe tbody tr th:only-of-type {\n",
       "        vertical-align: middle;\n",
       "    }\n",
       "\n",
       "    .dataframe tbody tr th {\n",
       "        vertical-align: top;\n",
       "    }\n",
       "\n",
       "    .dataframe thead th {\n",
       "        text-align: right;\n",
       "    }\n",
       "</style>\n",
       "<table border=\"1\" class=\"dataframe\">\n",
       "  <thead>\n",
       "    <tr style=\"text-align: right;\">\n",
       "      <th></th>\n",
       "      <th>totalbill</th>\n",
       "      <th>tip</th>\n",
       "    </tr>\n",
       "  </thead>\n",
       "  <tbody>\n",
       "    <tr>\n",
       "      <th>0</th>\n",
       "      <td>0.291579</td>\n",
       "      <td>0.001111</td>\n",
       "    </tr>\n",
       "    <tr>\n",
       "      <th>1</th>\n",
       "      <td>0.152283</td>\n",
       "      <td>0.073333</td>\n",
       "    </tr>\n",
       "    <tr>\n",
       "      <th>2</th>\n",
       "      <td>0.375786</td>\n",
       "      <td>0.277778</td>\n",
       "    </tr>\n",
       "    <tr>\n",
       "      <th>3</th>\n",
       "      <td>0.431713</td>\n",
       "      <td>0.256667</td>\n",
       "    </tr>\n",
       "    <tr>\n",
       "      <th>4</th>\n",
       "      <td>0.450775</td>\n",
       "      <td>0.290000</td>\n",
       "    </tr>\n",
       "    <tr>\n",
       "      <th>...</th>\n",
       "      <td>...</td>\n",
       "      <td>...</td>\n",
       "    </tr>\n",
       "    <tr>\n",
       "      <th>239</th>\n",
       "      <td>0.543779</td>\n",
       "      <td>0.546667</td>\n",
       "    </tr>\n",
       "    <tr>\n",
       "      <th>240</th>\n",
       "      <td>0.505027</td>\n",
       "      <td>0.111111</td>\n",
       "    </tr>\n",
       "    <tr>\n",
       "      <th>241</th>\n",
       "      <td>0.410557</td>\n",
       "      <td>0.111111</td>\n",
       "    </tr>\n",
       "    <tr>\n",
       "      <th>242</th>\n",
       "      <td>0.308965</td>\n",
       "      <td>0.083333</td>\n",
       "    </tr>\n",
       "    <tr>\n",
       "      <th>243</th>\n",
       "      <td>0.329074</td>\n",
       "      <td>0.222222</td>\n",
       "    </tr>\n",
       "  </tbody>\n",
       "</table>\n",
       "<p>244 rows × 2 columns</p>\n",
       "</div>"
      ],
      "text/plain": [
       "     totalbill       tip\n",
       "0     0.291579  0.001111\n",
       "1     0.152283  0.073333\n",
       "2     0.375786  0.277778\n",
       "3     0.431713  0.256667\n",
       "4     0.450775  0.290000\n",
       "..         ...       ...\n",
       "239   0.543779  0.546667\n",
       "240   0.505027  0.111111\n",
       "241   0.410557  0.111111\n",
       "242   0.308965  0.083333\n",
       "243   0.329074  0.222222\n",
       "\n",
       "[244 rows x 2 columns]"
      ]
     },
     "execution_count": 27,
     "metadata": {},
     "output_type": "execute_result"
    }
   ],
   "source": [
    "import pandas as pd\n",
    "import seaborn as sns\n",
    "from sklearn.preprocessing import MinMaxScaler\n",
    "\n",
    "df=sns.load_dataset(\"tips\")\n",
    "scaler= MinMaxScaler()\n",
    "scaler_data=pd.DataFrame(scaler.fit_transform(df[[\"total_bill\", \"tip\"]]),columns=[\"totalbill\", \"tip\"])\n",
    "scaler_data"
   ]
  },
  {
   "cell_type": "code",
   "execution_count": 7,
   "id": "fe57aae6",
   "metadata": {},
   "outputs": [],
   "source": [
    "scaler = MinMaxScaler()"
   ]
  },
  {
   "cell_type": "markdown",
   "id": "dafc522e",
   "metadata": {},
   "source": [
    "# Q2. What is the Unit Vector technique in feature scaling, and how does it differ from Min-Max scaling? Provide an example to illustrate its application."
   ]
  },
  {
   "cell_type": "markdown",
   "id": "d02dfac3",
   "metadata": {},
   "source": [
    "### The Unit Vector technique is another feature scaling technique used to scale and normalize the values of a feature. In this technique, each data point is scaled to have a magnitude of 1, i.e., it is transformed into a unit vector. This technique is also known as \"vector normalization\"."
   ]
  },
  {
   "cell_type": "code",
   "execution_count": 24,
   "id": "43cfecaf",
   "metadata": {},
   "outputs": [
    {
     "data": {
      "text/html": [
       "<div>\n",
       "<style scoped>\n",
       "    .dataframe tbody tr th:only-of-type {\n",
       "        vertical-align: middle;\n",
       "    }\n",
       "\n",
       "    .dataframe tbody tr th {\n",
       "        vertical-align: top;\n",
       "    }\n",
       "\n",
       "    .dataframe thead th {\n",
       "        text-align: right;\n",
       "    }\n",
       "</style>\n",
       "<table border=\"1\" class=\"dataframe\">\n",
       "  <thead>\n",
       "    <tr style=\"text-align: right;\">\n",
       "      <th></th>\n",
       "      <th>totalbill</th>\n",
       "      <th>tip</th>\n",
       "    </tr>\n",
       "  </thead>\n",
       "  <tbody>\n",
       "    <tr>\n",
       "      <th>0</th>\n",
       "      <td>0.998238</td>\n",
       "      <td>0.059342</td>\n",
       "    </tr>\n",
       "    <tr>\n",
       "      <th>1</th>\n",
       "      <td>0.987357</td>\n",
       "      <td>0.158512</td>\n",
       "    </tr>\n",
       "    <tr>\n",
       "      <th>2</th>\n",
       "      <td>0.986407</td>\n",
       "      <td>0.164323</td>\n",
       "    </tr>\n",
       "    <tr>\n",
       "      <th>3</th>\n",
       "      <td>0.990372</td>\n",
       "      <td>0.138435</td>\n",
       "    </tr>\n",
       "    <tr>\n",
       "      <th>4</th>\n",
       "      <td>0.989395</td>\n",
       "      <td>0.145251</td>\n",
       "    </tr>\n",
       "    <tr>\n",
       "      <th>...</th>\n",
       "      <td>...</td>\n",
       "      <td>...</td>\n",
       "    </tr>\n",
       "    <tr>\n",
       "      <th>239</th>\n",
       "      <td>0.979834</td>\n",
       "      <td>0.199815</td>\n",
       "    </tr>\n",
       "    <tr>\n",
       "      <th>240</th>\n",
       "      <td>0.997304</td>\n",
       "      <td>0.073385</td>\n",
       "    </tr>\n",
       "    <tr>\n",
       "      <th>241</th>\n",
       "      <td>0.996131</td>\n",
       "      <td>0.087881</td>\n",
       "    </tr>\n",
       "    <tr>\n",
       "      <th>242</th>\n",
       "      <td>0.995213</td>\n",
       "      <td>0.097734</td>\n",
       "    </tr>\n",
       "    <tr>\n",
       "      <th>243</th>\n",
       "      <td>0.987480</td>\n",
       "      <td>0.157744</td>\n",
       "    </tr>\n",
       "  </tbody>\n",
       "</table>\n",
       "<p>244 rows × 2 columns</p>\n",
       "</div>"
      ],
      "text/plain": [
       "     totalbill       tip\n",
       "0     0.998238  0.059342\n",
       "1     0.987357  0.158512\n",
       "2     0.986407  0.164323\n",
       "3     0.990372  0.138435\n",
       "4     0.989395  0.145251\n",
       "..         ...       ...\n",
       "239   0.979834  0.199815\n",
       "240   0.997304  0.073385\n",
       "241   0.996131  0.087881\n",
       "242   0.995213  0.097734\n",
       "243   0.987480  0.157744\n",
       "\n",
       "[244 rows x 2 columns]"
      ]
     },
     "execution_count": 24,
     "metadata": {},
     "output_type": "execute_result"
    }
   ],
   "source": [
    "import pandas as pd\n",
    "import seaborn as sns\n",
    "from sklearn.preprocessing import Normalizer\n",
    "\n",
    "df=sns.load_dataset(\"tips\")\n",
    "scaler= Normalizer()\n",
    "scaler_data=pd.DataFrame(scaler.fit_transform(df[[\"total_bill\", \"tip\"]]),columns=[\"totalbill\", \"tip\"])\n",
    "scaler_data"
   ]
  },
  {
   "cell_type": "markdown",
   "id": "e9c7317b",
   "metadata": {},
   "source": [
    "# Q3. What is PCA (Principle Component Analysis), and how is it used in dimensionality reduction? Provide an example to illustrate its application."
   ]
  },
  {
   "cell_type": "markdown",
   "id": "78dcd3bd",
   "metadata": {},
   "source": [
    "### PCA (Principal Component Analysis) is a widely used unsupervised machine learning technique used for dimensionality reduction in data analysis. It is a mathematical technique that transforms high-dimensional data into a lower-dimensional space while preserving the most important information in the data.\n",
    "\n",
    "### PCA works by finding a set of new, uncorrelated variables called principal components that capture most of the variance in the original data. These principal components are a linear combination of the original features and are ranked in order of importance. The first principal component captures the maximum variance, the second principal component captures the second maximum variance, and so on.\n",
    "\n",
    "### PCA can be used to reduce the dimensionality of the data by retaining only a subset of the most important principal components, thus reducing the complexity of the data while retaining most of the important information."
   ]
  },
  {
   "cell_type": "code",
   "execution_count": 38,
   "id": "a655b856",
   "metadata": {},
   "outputs": [
    {
     "data": {
      "text/html": [
       "<div>\n",
       "<style scoped>\n",
       "    .dataframe tbody tr th:only-of-type {\n",
       "        vertical-align: middle;\n",
       "    }\n",
       "\n",
       "    .dataframe tbody tr th {\n",
       "        vertical-align: top;\n",
       "    }\n",
       "\n",
       "    .dataframe thead th {\n",
       "        text-align: right;\n",
       "    }\n",
       "</style>\n",
       "<table border=\"1\" class=\"dataframe\">\n",
       "  <thead>\n",
       "    <tr style=\"text-align: right;\">\n",
       "      <th></th>\n",
       "      <th>PC1</th>\n",
       "      <th>PC2</th>\n",
       "    </tr>\n",
       "  </thead>\n",
       "  <tbody>\n",
       "    <tr>\n",
       "      <th>0</th>\n",
       "      <td>-0.548177</td>\n",
       "      <td>-0.021808</td>\n",
       "    </tr>\n",
       "    <tr>\n",
       "      <th>1</th>\n",
       "      <td>-0.884645</td>\n",
       "      <td>-0.058997</td>\n",
       "    </tr>\n",
       "    <tr>\n",
       "      <th>2</th>\n",
       "      <td>-0.528732</td>\n",
       "      <td>0.082617</td>\n",
       "    </tr>\n",
       "    <tr>\n",
       "      <th>3</th>\n",
       "      <td>1.807200</td>\n",
       "      <td>0.079736</td>\n",
       "    </tr>\n",
       "    <tr>\n",
       "      <th>4</th>\n",
       "      <td>-0.421688</td>\n",
       "      <td>-0.102229</td>\n",
       "    </tr>\n",
       "  </tbody>\n",
       "</table>\n",
       "</div>"
      ],
      "text/plain": [
       "        PC1       PC2\n",
       "0 -0.548177 -0.021808\n",
       "1 -0.884645 -0.058997\n",
       "2 -0.528732  0.082617\n",
       "3  1.807200  0.079736\n",
       "4 -0.421688 -0.102229"
      ]
     },
     "execution_count": 38,
     "metadata": {},
     "output_type": "execute_result"
    }
   ],
   "source": [
    "import pandas as pd\n",
    "import seaborn as sns\n",
    "from sklearn.decomposition import PCA\n",
    "df= sns.load_dataset(\"taxis\")\n",
    "num_features = ['distance', 'total']\n",
    "\n",
    "# Scale the data using StandardScaler\n",
    "from sklearn.preprocessing import StandardScaler\n",
    "scaler = StandardScaler()\n",
    "taxi_df_scaled = scaler.fit_transform(df[num_features])\n",
    "\n",
    "# Create a PCA object with 2 components\n",
    "pca = PCA(n_components=2)\n",
    "taxi_df_pca = pca.fit_transform(taxi_df_scaled)\n",
    "\n",
    "# Convert the PCA data to a Pandas DataFrame\n",
    "taxi_df_pca = pd.DataFrame(taxi_df_pca, columns=['PC1', 'PC2'])\n",
    "\n",
    "taxi_df_pca.head()\n"
   ]
  },
  {
   "cell_type": "markdown",
   "id": "a7a9b7bb",
   "metadata": {},
   "source": [
    "# Q4. What is the relationship between PCA and Feature Extraction, and how can PCA be used for Feature Extraction? Provide an example to illustrate this concept."
   ]
  },
  {
   "cell_type": "markdown",
   "id": "f1333e0b",
   "metadata": {},
   "source": [
    "### PCA (Principal Component Analysis) is a technique for dimensionality reduction that can also be used for feature extraction. Feature extraction is a process of selecting and transforming the most important features from the original dataset to create a new, reduced feature set. PCA can help in this process by extracting the most important features from the data and transforming them into a new set of features.\n",
    "\n",
    "### In PCA, the principal components are a linear combination of the original features that capture the most important information in the data. These principal components can be considered as new features that represent the original data in a lower-dimensional space. These new features can be used for feature extraction in machine learning applications."
   ]
  },
  {
   "cell_type": "markdown",
   "id": "16bf70e6",
   "metadata": {},
   "source": [
    "# Q7. For a dataset containing the following values: [1, 5, 10, 15, 20], perform Min-Max scaling to transform the values to a range of -1 to 1."
   ]
  },
  {
   "cell_type": "code",
   "execution_count": 39,
   "id": "d77d97a6",
   "metadata": {},
   "outputs": [],
   "source": [
    "data= [1, 5, 10, 15, 20] "
   ]
  },
  {
   "cell_type": "code",
   "execution_count": 41,
   "id": "5dcb1c7f",
   "metadata": {},
   "outputs": [
    {
     "data": {
      "text/html": [
       "<div>\n",
       "<style scoped>\n",
       "    .dataframe tbody tr th:only-of-type {\n",
       "        vertical-align: middle;\n",
       "    }\n",
       "\n",
       "    .dataframe tbody tr th {\n",
       "        vertical-align: top;\n",
       "    }\n",
       "\n",
       "    .dataframe thead th {\n",
       "        text-align: right;\n",
       "    }\n",
       "</style>\n",
       "<table border=\"1\" class=\"dataframe\">\n",
       "  <thead>\n",
       "    <tr style=\"text-align: right;\">\n",
       "      <th></th>\n",
       "      <th>0</th>\n",
       "      <th>1</th>\n",
       "      <th>2</th>\n",
       "      <th>3</th>\n",
       "      <th>4</th>\n",
       "    </tr>\n",
       "  </thead>\n",
       "  <tbody>\n",
       "    <tr>\n",
       "      <th>0</th>\n",
       "      <td>0.0</td>\n",
       "      <td>0.0</td>\n",
       "      <td>0.0</td>\n",
       "      <td>0.0</td>\n",
       "      <td>0.0</td>\n",
       "    </tr>\n",
       "  </tbody>\n",
       "</table>\n",
       "</div>"
      ],
      "text/plain": [
       "     0    1    2    3    4\n",
       "0  0.0  0.0  0.0  0.0  0.0"
      ]
     },
     "execution_count": 41,
     "metadata": {},
     "output_type": "execute_result"
    }
   ],
   "source": [
    "import pandas as pd\n",
    "from sklearn.preprocessing import MinMaxScaler\n",
    "\n",
    "data= [[1, 5, 10, 15, 20]] \n",
    "scaler= MinMaxScaler()\n",
    "scaler_data=pd.DataFrame(scaler.fit_transform(data))\n",
    "scaler_data"
   ]
  },
  {
   "cell_type": "code",
   "execution_count": null,
   "id": "62b7e922",
   "metadata": {},
   "outputs": [],
   "source": []
  }
 ],
 "metadata": {
  "kernelspec": {
   "display_name": "Python 3 (ipykernel)",
   "language": "python",
   "name": "python3"
  },
  "language_info": {
   "codemirror_mode": {
    "name": "ipython",
    "version": 3
   },
   "file_extension": ".py",
   "mimetype": "text/x-python",
   "name": "python",
   "nbconvert_exporter": "python",
   "pygments_lexer": "ipython3",
   "version": "3.9.13"
  }
 },
 "nbformat": 4,
 "nbformat_minor": 5
}
